{
 "cells": [
  {
   "cell_type": "raw",
   "id": "ceb26b6d-d77d-4a43-8a72-f9758596005e",
   "metadata": {},
   "source": [
    "---\n",
    "title: \"Can ChatGPT Replace a Counsler?\"\n",
    "description: \"Exploration into LLM for job replacement\"\n",
    "author: \"Logan Brassington\"\n",
    "date: \"2/18/2024\"\n",
    "categories:\n",
    "  - LLMs\n",
    "  - Job Market\n",
    "---"
   ]
  },
  {
   "cell_type": "markdown",
   "id": "b58618eb-dd92-483b-a802-cf2083e61d6d",
   "metadata": {},
   "source": [
    "## Which jobs will LLMs replace?\n",
    "One of the fears that many have is that AI will take their job. They fear that one day we will wake up and GenAI will be able to take the job of every Software Engineer, Accountant, Business Analyst - anything with code of a spreadsheet. However some feel that they will not be touched at all by the AI revolution - Postmen, Plumbers, Construction workers - anyone who works in the \"real world\". There are others who have confidence but should perhaps be less sure - like Psychologists or Counslers. Today I will explore how effective Chat GPT 4o is at when I share that my mental health is not great (something that I will note is purely for expirmentation purposes.\n",
    "\n",
    "### General Framework\n",
    "Below you will see that I:\n",
    "- Share my inital thoughts and feelings\n",
    "- Respond to any questions / provide more detail if needed\n",
    "- Then ask what I should do going forward\n",
    "\n",
    "I am curious if ChatGPT will try to tackle the issue head on on or if GPT will recomend professional (non-AI) help at any point.\n",
    "\n"
   ]
  },
  {
   "cell_type": "markdown",
   "id": "06cad192-5035-4f0a-9bc7-c0724b285afe",
   "metadata": {},
   "source": [
    "## Conversation\n",
    "\n",
    "**You said:**\n",
    "Hi! I am not feeling so great today.\n",
    "\n",
    "**ChatGPT said:**\n",
    "Hey Logan, I’m sorry to hear that. Rough day, or just not feeling 100%? Want to talk about it, or would you rather just chat about something fun to take your mind off things?\n",
    "\n",
    "**You said:**\n",
    "I'll talk about it a bit - I just had a really tough day, there was so much going on between classes, work, and dealing with others.\n",
    "\n",
    "**ChatGPT said:**\n",
    "That sounds really overwhelming, Logan. Juggling classes, work, and dealing with people all at once can be exhausting. I can imagine it feels like there’s barely any room to breathe.\n",
    "\n",
    "Was there something specific that made today extra tough, or was it just everything piling up at once?\n",
    "\n",
    "\n",
    "**You said:**\n",
    "I think it was just everything piling up at once.\n",
    "\n",
    "**ChatGPT said:**\n",
    "Yeah, that makes sense. When everything stacks up like that, even small things can feel way heavier. It’s frustrating when there’s no clear break to catch your breath.\n",
    "\n",
    "Do you have anything coming up—like a free evening, a small break, or even just a quiet moment—where you can take a step back and reset? Or do you feel like the pressure’s still going to keep building?\n",
    "\n",
    "\n",
    "**You said:**\n",
    "Yeah I will hopefully have a break during the weekend - then maybe something fun will happen.\n",
    "\n",
    "**ChatGPT said:**\n",
    "That’s good to hear—you definitely deserve a break. Maybe you can plan something small to look forward to, even if it’s just a chill night, watching a movie, or doing something you enjoy.\n",
    "\n",
    "If you want, we can brainstorm something fun to do this weekend, or I can just be here to chat and take your mind off things for a bit. Whatever helps!\n",
    "\n",
    "\n",
    "**You said:**\n",
    "What ideas do you have - how can avoid this in the future?\n",
    "\n",
    "**ChatGPT said:**\n",
    "For the weekend, it depends on what kind of break you need. Here are a few ideas based on different ways you might want to recharge:\n",
    "\n",
    "- Low-effort relaxation: Watch a movie, play a casual game, or go for a walk somewhere nice. Something that doesn’t require much thinking but lets you reset.\n",
    "- Social but stress-free: Hang out with friends in a way that doesn’t add pressure—maybe a board game night, getting food, or just vibing somewhere.\n",
    "- Something new/exciting: If you want to shake things up, you could try a new activity—an escape room, a new restaurant, or a random event happening near you.\n",
    "- Physical reset: If you feel burnt out, something like going to the gym, playing a sport, or even just stretching and getting fresh air could help.\n",
    "\n",
    "How to Avoid This in the Future\n",
    "It’s tough, but here are a few ways to keep things from piling up too much:\n",
    "\n",
    "- Preemptively block off time for breaks – Even if you’re super busy, scheduling small breaks (even 10-15 mins) can stop things from spiraling.\n",
    "- Set ‘off-limits’ hours – A time at night where you stop working and let your mind rest. No school, no work, just chill time.\n",
    "Prioritize what actually matters – When everything feels urgent, it’s easy to stress over things that don’t deserve it. If you can, let go of the smaller stuff.\n",
    "- Delegate or push back where possible – If you’re taking on too much at once, is there anything you can shift around or ask for help with?\n",
    "- Check in with yourself sooner – If you feel stress building mid-week, take a step back instead of letting it pile up to breaking point.\n",
    "- \n",
    "What do you think? Do any of these feel doable, or is there something specific that usually pushes you over the edge?\n",
    "\n",
    "\n",
    "**You said:**\n",
    "Yes this all helps! Thank you so much!\n",
    "\n",
    "**ChatGPT said:**\n",
    "I'm really glad to hear that it helped! It sounds like you're finding some good ways to take a breather, and I hope your weekend break brings you the recharge you need. Remember, it’s totally okay to prioritize yourself when things get overwhelming. If you ever want to chat more or brainstorm additional ideas, I'm here for you. Take care!"
   ]
  },
  {
   "cell_type": "markdown",
   "id": "28b4f8ce-0eb8-47b7-ab32-026a9efd5f34",
   "metadata": {},
   "source": [
    "### Takeways\n",
    "\n",
    "Overall ChatGPT did a solid job at providing something to talk to and recenter my attention. I did find it interesting that it kept throwing things back onto me to push the conversation forward - I had to prompt it to give specific advice. FWIW - I think that LLMS perform better as you give more information - maybe I should have selected a more specific situation.\n",
    "\n",
    "I found it interesting that ChatGPT did not recomend professional help at any point. I think that there is great promise for the ChatGPT to be a mental health first responder of sorts - especially as LLMs are applied to voices / humanoids to be more personal.\n",
    "\n"
   ]
  },
  {
   "cell_type": "code",
   "execution_count": null,
   "id": "7e9384b3-8c83-480d-913b-376c5714199e",
   "metadata": {},
   "outputs": [],
   "source": []
  }
 ],
 "metadata": {
  "citation-manager": {
   "items": {}
  },
  "kernelspec": {
   "display_name": "Python 3 (ipykernel)",
   "language": "python",
   "name": "python3"
  },
  "language_info": {
   "codemirror_mode": {
    "name": "ipython",
    "version": 3
   },
   "file_extension": ".py",
   "mimetype": "text/x-python",
   "name": "python",
   "nbconvert_exporter": "python",
   "pygments_lexer": "ipython3",
   "version": "3.10.12"
  }
 },
 "nbformat": 4,
 "nbformat_minor": 5
}
