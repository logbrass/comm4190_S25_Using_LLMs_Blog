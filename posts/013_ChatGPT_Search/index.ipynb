{
 "cells": [
  {
   "cell_type": "raw",
   "id": "ceb26b6d-d77d-4a43-8a72-f9758596005e",
   "metadata": {},
   "source": [
    "---\n",
    "title: \"How Good is ChatGPT Search?\"\n",
    "description: \"An Exploration into GPT Search\"\n",
    "author: \"LOGAN BRASSINGTON\"\n",
    "date: \"3/8/2025\"\n",
    "categories:\n",
    "  - LLMs\n",
    "  - prompting\n",
    "  - ChatGPT\n",
    "---"
   ]
  },
  {
   "cell_type": "markdown",
   "id": "b58618eb-dd92-483b-a802-cf2083e61d6d",
   "metadata": {},
   "source": [
    "## Using GPT Search\n",
    "\n",
    "One of the big questions of LLMs is will an LLM replace Google Search or other similar browsers? Is it changing how we are accessing information and will LLMs be competitive with these search giants?\n",
    "\n",
    "In order to test this a little bit - we will explore how ChatGPT Search does when asked about the results of March Madness (The NCAA D1 Basketball Tournament).\n",
    "\n",
    "**Prompt:** Who won march madness 2025?\n",
    "\n",
    "\n",
    "**Response:**  \n",
    "\n",
    "<img src=\"img1.png\" width=\"50%\"/>\n",
    "\n",
    "The response includes a direct and succinct answer, highlighting that the Florida Gators won the championship against Houston by 65–63. \n",
    "\n",
    "There was also a button to give the sources that the article sourced from:\n",
    "\n",
    "<img src=\"img2.png\" width=\"50%\"/>\n",
    "\n",
    "This creates a more credible response as opposed to the nebulous GPT search result - a common gripe against LLMs — that they \"hallucinate\" or it is unclear where they are pulling a result.\n",
    "\n",
    "The UI is sleek and intuitive, offering a seamless blend of conversational clarity and traditional sourcing. Compared to Google’s approach, with ads and targeted SEO, this could be a breath of fresh air for many people. It is worth noting however that there are risks in this approach (that GPT is still providing one answer - and that just becauce something is on the internet does not make it true). We can explore this idea by a more fiercely debated topic.\n",
    "\n",
    "**Prompt:** Are the tariffs going to be good for US trade?\n",
    "\n",
    "**Response:** \n",
    "\n",
    "<img src=\"img3.png\" width=\"50%\"/>\n",
    "\n",
    "\n",
    "Here we can see part of the response and the sources - it is curious to note that most of the sources are politically neutral and are very fact based.\n",
    "\n",
    "It will be interesting to see how it progresses or how it responds when tasked with more challenging questions.\n",
    "\n",
    "\n"
   ]
  }
 ],
 "metadata": {
  "citation-manager": {
   "items": {}
  },
  "kernelspec": {
   "display_name": "Python 3 (ipykernel)",
   "language": "python",
   "name": "python3"
  },
  "language_info": {
   "codemirror_mode": {
    "name": "ipython",
    "version": 3
   },
   "file_extension": ".py",
   "mimetype": "text/x-python",
   "name": "python",
   "nbconvert_exporter": "python",
   "pygments_lexer": "ipython3",
   "version": "3.10.12"
  }
 },
 "nbformat": 4,
 "nbformat_minor": 5
}
