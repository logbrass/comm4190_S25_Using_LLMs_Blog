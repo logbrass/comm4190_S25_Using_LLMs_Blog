{
 "cells": [
  {
   "cell_type": "raw",
   "id": "ceb26b6d-d77d-4a43-8a72-f9758596005e",
   "metadata": {},
   "source": [
    "---\n",
    "title: \"LLM's Drawing Words\"\n",
    "description: \"Exploration of how well Image diffusion models work\"\n",
    "author: \"Logan Brassington\"\n",
    "date: \"2/10/2025\"\n",
    "categories:\n",
    "  - LLMs\n",
    "  - Art\n",
    "  - prompting\n",
    "---"
   ]
  },
  {
   "cell_type": "markdown",
   "id": "b58618eb-dd92-483b-a802-cf2083e61d6d",
   "metadata": {},
   "source": [
    "## Image Generation\n",
    "\n",
    "One of the areas that I have noticed LLMs to be particularly weak in is specific image generation. These diffusion models perform great when given an abstract task like \"draw a cat in the middle of space\":"
   ]
  },
  {
   "cell_type": "markdown",
   "id": "ff7bae31-c678-4438-ad0a-db1d7b2fc238",
   "metadata": {},
   "source": [
    "<img src=\"cat.png\" width=\"50%\"/>"
   ]
  },
  {
   "cell_type": "markdown",
   "id": "02bf9093-078d-49cf-bea6-1d61c4713551",
   "metadata": {},
   "source": [
    "We can clearly see that it creatively comes up with a cat (an American cat at that) in vivid detail. We could specify more instruction, like a different art form or change a detail of the cat. However this is where LLMs perfomance in image generation seem to drop off. When tasked with creating more finite images that are seemingly simple - I have found that LLMs tend to create blurry images with mistakes. We can explore this poor perfomance by asking Dalle to generate images containing words that are increasingly complex. "
   ]
  },
  {
   "cell_type": "markdown",
   "id": "e300a655-c870-4d8f-85cc-716e62e544e8",
   "metadata": {},
   "source": [
    "## \"Generate an image with the word CAT\"\n",
    "\n",
    "<img src=\"cat1.png\" width=\"50%\"/>\n",
    "\n",
    "While this is techincally correct, it seems to have jumped to doing an artistic rendering of the word CAT. We can try to specify things a bit more to recieve the desired output."
   ]
  },
  {
   "cell_type": "markdown",
   "id": "a631c4b8-b611-4568-a342-7653f5d87039",
   "metadata": {},
   "source": [
    "## \"Generate a plain image with the word CAT (the word should be black with a simple white background)\"\n",
    "\n",
    "<img src=\"cat2.png\" width=\"50%\"/>\n",
    "\n",
    "Here we were able to obtain the black word - but the rest of the smaller letters beneath the word CAT look like an eye exam. It is also important to note that some of those smaller letters seem to be smudged or cut off. At this point, maybe if we give some more specification around what we want, we can get the proper result.\n",
    "\n",
    "\n",
    "## \"Generate a plain image with the word CAT (the word should be black with a simple white background). There should be no other letters in the image. The goal is to mimic a black piece of paper only the word CAT. You are not an artist.\"\n",
    "\n",
    "<img src=\"cat3.png\" width=\"50%\"/>\n",
    "\n",
    "This time around we can see that this is far closer to the result that we want, but it isn't exactly right. There is an odd grey boarder that was not requested. At this point - maybe we should ask Chat GPT 4o what the best image generation prompt is:\n",
    "\n",
    "<img src=\"cat4.png\" width=\"50%\"/>\n",
    "\n",
    "Let's try it: \n",
    "\n",
    "## \"A plain white background with the word 'CAT' in bold black text, centered. No other elements, decorations, or details.\"\n",
    "\n",
    "<img src=\"cat5.png\" width=\"50%\"/>\n",
    "\n",
    "This did the trick! It seems that the exact prompting with Dalle matters the most. At this point it begs more of a UI question with AI that if text to image if meant to be widely accisble, how can an image generation interface be better suited for a layman user? Maybe it would be better to provide users with a more guided experience, such as preset templates for common requests or a more interactive prompt refinement system - instead of requiring users to perfectly craft a text prompt. \n"
   ]
  },
  {
   "cell_type": "markdown",
   "id": "ce0ec6e0-b48b-4bce-94eb-681c7f2976bb",
   "metadata": {},
   "source": [
    "In the future when trying to generate an image, it might be best to just ask an LLM what the best way to do this is!"
   ]
  }
 ],
 "metadata": {
  "citation-manager": {
   "items": {}
  },
  "kernelspec": {
   "display_name": "Python 3 (ipykernel)",
   "language": "python",
   "name": "python3"
  },
  "language_info": {
   "codemirror_mode": {
    "name": "ipython",
    "version": 3
   },
   "file_extension": ".py",
   "mimetype": "text/x-python",
   "name": "python",
   "nbconvert_exporter": "python",
   "pygments_lexer": "ipython3",
   "version": "3.10.12"
  }
 },
 "nbformat": 4,
 "nbformat_minor": 5
}
