{
 "cells": [
  {
   "cell_type": "raw",
   "id": "ceb26b6d-d77d-4a43-8a72-f9758596005e",
   "metadata": {},
   "source": [
    "---\n",
    "title: \"AI Art Refinement\"\n",
    "description: \"Can Dalle refine Images properlyy with natural language?\"\n",
    "author: \"An LLM User\"\n",
    "date: \"2/20/2024\"\n",
    "categories:\n",
    "  - LLMs\n",
    "  - Art\n",
    "  - Prompting\n",
    "---"
   ]
  },
  {
   "cell_type": "markdown",
   "id": "b58618eb-dd92-483b-a802-cf2083e61d6d",
   "metadata": {},
   "source": [
    "## Art Generation for LLMs\n",
    "\n",
    "One of the things that I am curious about - is if LLMs can generate images based on natural language then make small modificaitons without losing the overall image. I will try a variety of tests to see how DALLE performs with making a varitey of shifts to an inital \"crazy\" prompt."
   ]
  },
  {
   "cell_type": "markdown",
   "id": "e9d7e97a-f92e-411d-8c62-1608d7820af7",
   "metadata": {},
   "source": [
    "### Inital Attempt\n",
    "The inital prompt will intentially be something fun and crazy - the type of image generation that LLMs do well.\n",
    "\"Generate an image of a cat riding a bike on Mars\"\n",
    "\n",
    "<img src=\"p1.png\" width=\"50%\"/>\n",
    "\n",
    "### Small Shift\n",
    "This did a great job comeing up with something abstract - let's see if they can keep it exactly the same except have the cat be black.\n",
    "\"This looks great! Can you keep the image EXACTLY the same - but make the cat black?\"\n",
    "\n",
    "<img src=\"p2.png\" width=\"50%\"/>\n",
    "\n",
    "### Attempted Correction\n",
    "The generated image has a number of differences - most notably the the planents in the background shift - the sky is different - as is the texture of Mars. Let's try one quick correction to see if we can get a better result.\n",
    "\"This is not the same as the first image. Make exactly the first image - except have the cat be black!\"\n",
    "\n",
    "<img src=\"p3.png\" width=\"50%\"/>\n",
    "\n",
    "\n",
    "### Inquiry about Image Generation\n",
    "This was a good attempt - GPT acknowledged that it cannot directly recreate the image but it can make a similar type. Curious about why the model works this way - I asked GPT why it cannot edit the image directly.\n",
    "\"Why can you not edit the image directly?\"\n",
    "\n",
    "<img src=\"p4.png\" width=\"50%\"/>\n",
    "\n",
    "Ever helpful - GPT offers alternatives to make up for the fact that it cannot directly recreate the image.\n",
    "\n",
    "As an aside I did come across a tool called **Control Net** (https://github.com/lllyasviel/ControlNet) - which is an LLM wrapper that provides the ability to further control existing diffusion models - **But more on that later**.\n"
   ]
  }
 ],
 "metadata": {
  "citation-manager": {
   "items": {}
  },
  "kernelspec": {
   "display_name": "Python 3 (ipykernel)",
   "language": "python",
   "name": "python3"
  },
  "language_info": {
   "codemirror_mode": {
    "name": "ipython",
    "version": 3
   },
   "file_extension": ".py",
   "mimetype": "text/x-python",
   "name": "python",
   "nbconvert_exporter": "python",
   "pygments_lexer": "ipython3",
   "version": "3.10.12"
  }
 },
 "nbformat": 4,
 "nbformat_minor": 5
}
