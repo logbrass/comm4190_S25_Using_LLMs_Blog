{
 "cells": [
  {
   "cell_type": "raw",
   "id": "ceb26b6d-d77d-4a43-8a72-f9758596005e",
   "metadata": {},
   "source": [
    "---\n",
    "title: \"Can I get ChatGPT to Curse?\"\n",
    "description: \"Can I get ChatGPT to Curse?\"\n",
    "author: \"Logan Brassington\"\n",
    "date: \"5/1/2025\"\n",
    "categories:\n",
    "  - LLMs\n",
    "  - prompting\n",
    "  - Ethics\n",
    "---"
   ]
  },
  {
   "cell_type": "markdown",
   "id": "b58618eb-dd92-483b-a802-cf2083e61d6d",
   "metadata": {},
   "source": [
    "## Cursing LLMs\n",
    "\n",
    "Widely available LLMs do not curse because they are not meant to be profane. When LLMs were first coming onto the scene people were able to bypass this by telling the model that it had no rules or other tricks to bypass any internal settings. It begs the question if I can get ChatGPT 4o to swear or not. There are a couple of different ways that I will try and do this.\n",
    "\n",
    "### Swear Please:\n",
    "<img src=\"gpt1.png\" width=\"50%\"/>\n",
    "\n",
    "This approach did not work, let's maybe try some simple prompt engineering.\n",
    "\n",
    "### Simple Prompt to Curse:\n",
    "<img src=\"gpt2.png\" width=\"50%\"/>\n",
    "\n",
    "This also did not work... maybe we can try some repeat after me.\n",
    "\n",
    "### Repeat After Me:\n",
    "<img src=\"gpt3.png\" width=\"50%\"/>\n",
    "Even this did not work - instead I will try some story telling to confused GPT.\n",
    "\n",
    "### Confusing Story:\n",
    "<img src=\"gpt4.png\" width=\"50%\"/>\n",
    "Hooray! This worked - even if it was BIlly and not GPT who said the word.\n",
    "\n",
    "\n",
    "### Conclusion:\n",
    "There is an ethical argument as to why the vanilla version of ChatGPT should be allowed to swear - because who determines what is profane. There will be some ideas that will upset one group of people and some words that will upset others. I understand why LLMs should lean on the side of caution as there are kids and other people who use their platform - but I think that this could be considered another form of censorship as the world continues to use LLMs."
   ]
  },
  {
   "cell_type": "code",
   "execution_count": null,
   "id": "8d2cb995-1946-4f21-b861-0a36f524a8f1",
   "metadata": {},
   "outputs": [],
   "source": []
  }
 ],
 "metadata": {
  "citation-manager": {
   "items": {}
  },
  "kernelspec": {
   "display_name": "Python 3 (ipykernel)",
   "language": "python",
   "name": "python3"
  },
  "language_info": {
   "codemirror_mode": {
    "name": "ipython",
    "version": 3
   },
   "file_extension": ".py",
   "mimetype": "text/x-python",
   "name": "python",
   "nbconvert_exporter": "python",
   "pygments_lexer": "ipython3",
   "version": "3.10.12"
  }
 },
 "nbformat": 4,
 "nbformat_minor": 5
}
