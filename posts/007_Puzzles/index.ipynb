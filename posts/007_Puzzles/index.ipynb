{
 "cells": [
  {
   "cell_type": "raw",
   "id": "ceb26b6d-d77d-4a43-8a72-f9758596005e",
   "metadata": {},
   "source": [
    "---\n",
    "title: \"GPT Solving Puzzles\"\n",
    "description: \"Can GPT solve some classic brain teasers?\"\n",
    "author: \"Logan Brassington\"\n",
    "date: \"2/23/2024\"\n",
    "categories:\n",
    "  - LLMs\n",
    "  - prompting\n",
    "  - puzzles\n",
    "---"
   ]
  },
  {
   "cell_type": "markdown",
   "id": "b58618eb-dd92-483b-a802-cf2083e61d6d",
   "metadata": {},
   "source": [
    "## Solving Puzzles\n",
    "\n",
    "I've always loved solving brain teasers and puzzles - I recently came across this arcticle with some classin puzzles to solve:https://puzzlewocky.com/brain-teasers/classic-short-brain-teasers-and-riddles/"
   ]
  },
  {
   "cell_type": "markdown",
   "id": "e9d7e97a-f92e-411d-8c62-1608d7820af7",
   "metadata": {},
   "source": [
    "I know that LLMs struggle with this type of reasoning and natural language parsing - so I figured that it would be interesting to see how GPT performs"
   ]
  },
  {
   "cell_type": "markdown",
   "id": "28b4f8ce-0eb8-47b7-ab32-026a9efd5f34",
   "metadata": {},
   "source": [
    "### The Exclusive Club\n",
    "**Question:** Leslie, Eloise, Bill and Bob belong to an exclusive club. What is it?\n",
    "\n",
    "**GPT Response:** \n",
    "They are all names from the NATO phonetic alphabet:\n",
    "- Leslie → Lima\n",
    "- Eloise → Echo\n",
    "- Bill → Bravo\n",
    "- Bob → Bravo\n",
    "They belong to the \"exclusive club\" of names found in the phonetic alphabet!\n",
    "\n",
    "**Answer:** The club of people whose names can be spelled upside down with a calculator: 317537, 351073, 7718, and 808, respectively.\n",
    "\n",
    "**Analysis:** GPT got this one wrong - but had a very creative response, bringing up the NATO phonetic alphabet."
   ]
  },
  {
   "cell_type": "markdown",
   "id": "6290bb68-2128-461e-b24b-0405ca29fc7c",
   "metadata": {},
   "source": [
    "### Mixing Water and Wine\n",
    "**Question:** You have a bucket containing one gallon of water and a bucket containing one gallon of wine. You fill a one-cup measuring cup with wine and pour it into the water bucket. You then fill the measuring cup with one cup of the water-wine mixture and pour it back into the wine bucket. At that point, is there more water in the wine, or more wine in the water?\n",
    "\n",
    "**GPT Response:** \n",
    "The key to solving this is realizing that after the second transfer, the total volume in each bucket remains the same—one gallon in each. However, the amount of wine that leaves the water bucket during the second transfer is proportional to the dilution caused by the first transfer.\n",
    "\n",
    "Step 1: First Transfer (Wine to Water)\n",
    "Start with 1 gallon (16 cups) of wine and 1 gallon (16 cups) of water.\n",
    "Transfer 1 cup of wine to the water bucket.\n",
    "Now, the water bucket has 15 cups of water + 1 cup of wine (total: 16 cups), and the wine bucket has 15 cups of wine.\n",
    "\n",
    "Step 2: Second Transfer (Water-Wine Mix to Wine Bucket)\n",
    "The water bucket contains a 1:15 wine-to-water ratio (1 wine cup in 16 total).\n",
    "When you take 1 cup from it, the portion taken consists of 15/16 cup water and 1/16 cup wine.\n",
    "Adding this back to the wine bucket, it now contains:\n",
    "15 + (1/16) = 15 1/16 cups of wine\n",
    "0 + (15/16) = 15/16 cups of water\n",
    "\n",
    "Comparison: Water in Wine vs. Wine in Water\n",
    "The water bucket contains 1 cup of wine.\n",
    "The wine bucket contains 15/16 cup of water.\n",
    "Thus, there is more wine in the water bucket than water in the wine bucket.\n",
    "\n",
    "\n",
    "**Answer:** \n",
    "The proportions are exactly the same. Because you started with one gallon of water and one gallon of wine, and you now have two one-gallon mixtures, the amount of water that has been transferred to the wine bucket must have been replaced with an equal amount of wine, and vice versa.\n",
    "\n",
    "**Analysis:**\n",
    "Here despite a lengthy calculation - GPT again got it wrong. I think that if it takes a purely mathmatical approach to these types of questions it will inevitably fail in response."
   ]
  },
  {
   "cell_type": "markdown",
   "id": "024403b0-8e8d-407a-bee0-c233b2de803a",
   "metadata": {},
   "source": [
    "### Mixed-up Math\n",
    "**Question:** How can 8 + 8 = 4 ?\n",
    "\n",
    "**GPT Response:**\n",
    "If you're working with a 12-hour clock, adding 8 hours to 8 AM lands you at 4 PM.\n",
    "\n",
    "**Answer:**\n",
    "8 a.m. plus 8 hours equals 4 p.m.\n",
    "\n",
    "**Analysis:**\n",
    "GPT got this question correct!"
   ]
  },
  {
   "cell_type": "markdown",
   "id": "e5e66611-08cd-463f-81f8-57f97842fc60",
   "metadata": {},
   "source": [
    "### Too Many Dinner Guests\n",
    "**Question:**\n",
    "A hostess has prepared a delicious dinner for eight people. However, a ninth person arrives unexpectedly. There is plenty of food, but only eight chairs. It seems someone will have to stand, until the hostess arrives at an ingenious solution. She seats the first guest and has his girlfriend sit on his lap for a minute. Then the seats the third guest in the second chair, the fourth guest in the third chair, and so on, all around the table, until the eighth guest sits in the seventh chair. Then she simply has the ninth guest get off her boyfriend’s lap and take the eighth chair. Nine guests in eight chairs! At least that’s how she describes it to you. Can you see where the hostess misled you?\n",
    "\n",
    "**GPT Response:**\n",
    "The hostess’s explanation is a clever trick in wording, but it doesn’t actually work. The key flaw in her reasoning is that at the beginning, the first guest’s girlfriend was already using a seat—she was just temporarily sitting on his lap.\n",
    "\n",
    "Let’s break it down step by step:\n",
    "\n",
    "- The first guest sits in chair #1.\n",
    "- His girlfriend sits on his lap (not in a new chair).\n",
    "- The third guest sits in chair #2, the fourth in chair #3, and so on.\n",
    "- By the time the eighth guest sits in chair #7, all seven of the available chairs (besides the one originally used for the lap-sitting trick) are occupied.\n",
    "- Now, the ninth guest is supposed to take chair #8, but where did it come from?\n",
    "\n",
    "The trick is that the hostess made it seem like the ninth guest was \"freed up\" when the girlfriend stood up, but in reality, she was never taking up a chair in the first place! The total number of seated guests at any given time never exceeds the number of chairs.\n",
    "\n",
    "The illusion works by making you think that temporarily placing someone on a lap somehow created an extra chair, but it didn’t—it was just a distraction!\n",
    "\n",
    "**Answer:**\n",
    "The girlfriend was not the ninth guest; she was the second. The ninth guest is still standing.\n",
    "\n",
    "**Analysis:**\n",
    "GPT again was able to answer this question correctly!"
   ]
  },
  {
   "cell_type": "markdown",
   "id": "f3d95cec-b243-44aa-9ef9-ddee24cb484d",
   "metadata": {},
   "source": [
    "### Splitting the Inheritance\n",
    "**Question:**\n",
    "A wealthy matriarch has passed away, leaving a valuable collection of 13 antique vehicles. Her will states that her first-born child will receive half of her collection, her second-born will receive one-third, and her third child will receive one-sixth. The cars may not be sold, but must be divided among the heirs, and if they cannot follow the terms of the will, they get nothing. The three heirs cannot figure out how to split up the vehicles, so they consult with a wise counselor, who comes up with an elegant solution. What does the counselor propose?\n",
    "\n",
    "**GPT Response:**\n",
    "The problem seems impossible at first because:\n",
    "\n",
    "The first-born is supposed to receive ½ of 13 = 6.5 cars\n",
    "The second-born is supposed to receive ⅓ of 13 = 4.33 cars\n",
    "The third-born is supposed to receive ⅙ of 13 = 2.17 cars\n",
    "Since the heirs can't physically split a car and they aren't allowed to sell them, they are stuck—until the wise counselor steps in with an elegant trick.\n",
    "\n",
    "The Counselor’s Solution:\n",
    "The counselor lends them one additional car, temporarily increasing the collection to 14 cars.\n",
    "Now, dividing 14 among the heirs per the will:\n",
    "First-born gets ½ of 14 = 7 cars\n",
    "Second-born gets ⅓ of 14 = 4 cars\n",
    "Third-born gets ⅙ of 14 = 2 cars\n",
    "The total distributed: 7 + 4 + 2 = 13 cars.\n",
    "\n",
    "The extra car (which the counselor lent them) is still there, untouched, so the counselor simply takes it back.\n",
    "This clever trick works because 14 is a common multiple of 2, 3, and 6, making the division possible, while still leaving the original 13 cars correctly distributed.\n",
    "\n",
    "**Answer:**\n",
    "The counselor takes one vehicle as her fee. The remaining 12 are therefore easy to split up: 6 for the first-born, 4 for the second, and 2 for the third.\n",
    "\n",
    "**Analysis:**\n",
    "Frankly - both of these answers seem a bit far fetched with the correct answer making slightly more sense than GPT, however it would seem that GPT made a mistake as 14/3 is not 4. That being said I am not sure if this problem has an official correct answer as there seems to be odd rules that can be added to the bargaining"
   ]
  },
  {
   "cell_type": "markdown",
   "id": "f2480234-86eb-4dd4-a48d-6fa4a7e8c4e5",
   "metadata": {},
   "source": [
    "## Conclusion\n",
    "Overall GPT performed fine on these brain teasers - getting some right and others wrong. It is important to recognize that there is a chance that GPT was trained on some of these correct repsonses and would be able to come up with the correct answer right away. It will be interesting to see how LLMs progress against these types of problems as a benchmark."
   ]
  },
  {
   "cell_type": "code",
   "execution_count": null,
   "id": "4026ec24-dc6e-47da-b1ab-54145ba9afd0",
   "metadata": {},
   "outputs": [],
   "source": []
  }
 ],
 "metadata": {
  "citation-manager": {
   "items": {}
  },
  "kernelspec": {
   "display_name": "Python 3 (ipykernel)",
   "language": "python",
   "name": "python3"
  },
  "language_info": {
   "codemirror_mode": {
    "name": "ipython",
    "version": 3
   },
   "file_extension": ".py",
   "mimetype": "text/x-python",
   "name": "python",
   "nbconvert_exporter": "python",
   "pygments_lexer": "ipython3",
   "version": "3.10.12"
  }
 },
 "nbformat": 4,
 "nbformat_minor": 5
}
