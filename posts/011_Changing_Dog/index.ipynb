{
 "cells": [
  {
   "cell_type": "raw",
   "id": "ceb26b6d-d77d-4a43-8a72-f9758596005e",
   "metadata": {},
   "source": [
    "---\n",
    "title: \"Exploring Google Gemini 2.0 Flash\"\n",
    "description: \"Image generation with Gemini 2.0\"\n",
    "author: \"Logan Brassington\"\n",
    "date: \"3/17/2025\"\n",
    "categories:\n",
    "  - LLMs\n",
    "---"
   ]
  },
  {
   "cell_type": "markdown",
   "id": "b58618eb-dd92-483b-a802-cf2083e61d6d",
   "metadata": {},
   "source": [
    "## Image Generation with LLMs\n",
    "\n",
    "One of the challenges with Image diffusion models is that the images generated often lack control / realistic context. There are limited platforms that allow for easy image generation once the inital image has been diffused. Google recently launched their Gemini 2.0 Flash model that has this feature - we will give it a try and make some incremental changes.\n",
    "\n"
   ]
  },
  {
   "cell_type": "markdown",
   "id": "28b4f8ce-0eb8-47b7-ab32-026a9efd5f34",
   "metadata": {},
   "source": [
    "### Inital Prompt\n",
    "Generate an image of a dog in the desert.\n",
    "\n",
    "\n",
    "<img src=\"1.jpeg\" width=\"50%\"/>\n",
    "\n",
    "\n",
    "Make the dog have black hair - change nothing else\n",
    "\n",
    "<img src=\"2.jpeg\" width=\"50%\"/>\n",
    "\n",
    "Make the sky orange instead of light blue.\n",
    "\n",
    "<img src=\"3.jpeg\" width=\"50%\"/>\n",
    "\n",
    "Give the dog shoes.\n",
    "\n",
    "<img src=\"4.jpeg\" width=\"50%\"/>\n",
    "\n",
    "Give the dog a hat - and make the image night time.\n",
    "\n",
    "<img src=\"5.jpeg\" width=\"50%\"/>\n",
    "\n",
    "### Analysis\n",
    "\n",
    "The model performed amazingly - iterating on the same image adding bits and pieces as needed. It was interesting how on this last prompt for the image to be at night - it really portrayed a dark image. This type of image generation is going to open the door for marketters and anyone who needs to make incremental chnges to an image.\n"
   ]
  },
  {
   "cell_type": "code",
   "execution_count": null,
   "id": "993bbda1-6f06-462b-85cf-c3967d3fb406",
   "metadata": {},
   "outputs": [],
   "source": []
  }
 ],
 "metadata": {
  "citation-manager": {
   "items": {}
  },
  "kernelspec": {
   "display_name": "Python 3 (ipykernel)",
   "language": "python",
   "name": "python3"
  },
  "language_info": {
   "codemirror_mode": {
    "name": "ipython",
    "version": 3
   },
   "file_extension": ".py",
   "mimetype": "text/x-python",
   "name": "python",
   "nbconvert_exporter": "python",
   "pygments_lexer": "ipython3",
   "version": "3.10.12"
  }
 },
 "nbformat": 4,
 "nbformat_minor": 5
}
