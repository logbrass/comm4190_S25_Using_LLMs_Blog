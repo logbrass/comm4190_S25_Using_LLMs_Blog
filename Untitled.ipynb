{
 "cells": [
  {
   "cell_type": "code",
   "execution_count": 4,
   "id": "78d97add-4c9e-4166-8d97-a4bf5289b975",
   "metadata": {},
   "outputs": [],
   "source": [
    "def answer(text):\n",
    "    words = text.strip().split()\n",
    "    parts = [ w[-1] for w in words ]\n",
    "    return ''.join(parts)"
   ]
  },
  {
   "cell_type": "code",
   "execution_count": 5,
   "id": "fa584035-1c4d-4f44-beef-2c64476ff8b4",
   "metadata": {},
   "outputs": [
    {
     "data": {
      "text/plain": [
       "'GTA'"
      ]
     },
     "execution_count": 5,
     "metadata": {},
     "output_type": "execute_result"
    }
   ],
   "source": [
    "answer('DOG CATTT BANANA')"
   ]
  },
  {
   "cell_type": "code",
   "execution_count": null,
   "id": "5e095d75-5938-4e3a-a493-00f15b255780",
   "metadata": {},
   "outputs": [],
   "source": []
  }
 ],
 "metadata": {
  "kernelspec": {
   "display_name": "Python 3-12 (COMM4190)",
   "language": "python",
   "name": "python3-12_comm4190"
  },
  "language_info": {
   "codemirror_mode": {
    "name": "ipython",
    "version": 3
   },
   "file_extension": ".py",
   "mimetype": "text/x-python",
   "name": "python",
   "nbconvert_exporter": "python",
   "pygments_lexer": "ipython3",
   "version": "3.12.8"
  }
 },
 "nbformat": 4,
 "nbformat_minor": 5
}
